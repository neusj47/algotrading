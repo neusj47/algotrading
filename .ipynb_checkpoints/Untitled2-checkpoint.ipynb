{
 "cells": [
  {
   "cell_type": "code",
   "execution_count": null,
   "id": "23a06574",
   "metadata": {},
   "outputs": [],
   "source": [
    "# 매수/매도 signal \n",
    "# 전일 가격 보다 크면 매수 작으면 매도 \n",
    "\n",
    "import pandas_datareader as pdr \n",
    "import datetime \n",
    "import pandas as pd\n",
    "import numpy as np"
   ]
  },
  {
   "cell_type": "code",
   "execution_count": null,
   "id": "ee0f95c9",
   "metadata": {},
   "outputs": [],
   "source": [
    "TICKER = ['SPY', 'QQQ',  'EFA', 'IWM', 'VNQ']\n",
    "start_date = '20200101'\n",
    "end_date = datetime.datetime.now()\n",
    "df = pdr.DataReader(TICKER, 'yahoo', start_date, end_date)['Adj Close']\n",
    "df.head(10)"
   ]
  }
 ],
 "metadata": {
  "kernelspec": {
   "display_name": "Python 3",
   "language": "python",
   "name": "python3"
  }
 },
 "nbformat": 4,
 "nbformat_minor": 5
}
